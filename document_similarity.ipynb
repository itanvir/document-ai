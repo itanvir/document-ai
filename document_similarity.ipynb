{
 "cells": [
  {
   "cell_type": "code",
   "execution_count": 23,
   "metadata": {},
   "outputs": [],
   "source": [
    "patent1 = \"PURPOSE: A distributed media streaming method and apparatus for i-phone and a system thereof are provided to perform the streaming of a video of an MPEG-TS(Moving Picture Experts Group-Transport Stream) format in a plurality of servers. CONSTITUTION: In case there is no corresponding m3u8 information of a streaming target file, a system requests the encoding of the streaming target file to a corresponding encoding and streaming server(S401,S402). The system receives a response result for the encoding request from the encoding and streaming server(S403). The system dynamically creates the m3u8 information of the streaming target file(S404). The system transmits the created m3u8 information to the i-phone of a user(S405).\"\n",
    "\n",
    "patent2 = \"A method and apparatus are provided for performing adaptive streaming according to a streaming environment based on information about a plurality of elements for determining qualities of a plurality of media data with respect to the same content.\""
   ]
  },
  {
   "cell_type": "code",
   "execution_count": 25,
   "metadata": {},
   "outputs": [
    {
     "name": "stdout",
     "output_type": "stream",
     "text": [
      "Patent 1: PURPOSE: A distributed media streaming method and apparatus for i-phone and a system thereof are provided to perform the streaming of a video of an MPEG-TS(Moving Picture Experts Group-Transport Stream) format in a plurality of servers. CONSTITUTION: In case there is no corresponding m3u8 information of a streaming target file, a system requests the encoding of the streaming target file to a corresponding encoding and streaming server(S401,S402). The system receives a response result for the encoding request from the encoding and streaming server(S403). The system dynamically creates the m3u8 information of the streaming target file(S404). The system transmits the created m3u8 information to the i-phone of a user(S405).\n",
      "=================\n",
      "Patent 2: A method and apparatus are provided for performing adaptive streaming according to a streaming environment based on information about a plurality of elements for determining qualities of a plurality of media data with respect to the same content.\n"
     ]
    }
   ],
   "source": [
    "print (\"Patent 1:\", patent1)\n",
    "print (\"=================\")\n",
    "print (\"Patent 2:\", patent2)"
   ]
  },
  {
   "cell_type": "code",
   "execution_count": 26,
   "metadata": {},
   "outputs": [],
   "source": [
    "# A list of text\n",
    "text = [patent1, patent2]\n",
    "\n",
    "from sklearn.feature_extraction.text import CountVectorizer\n",
    "cv = CountVectorizer()\n",
    "count_matrix = cv.fit_transform(text)"
   ]
  },
  {
   "cell_type": "code",
   "execution_count": 27,
   "metadata": {},
   "outputs": [
    {
     "name": "stdout",
     "output_type": "stream",
     "text": [
      "729\n",
      "246\n",
      "(2,)\n"
     ]
    },
    {
     "data": {
      "text/plain": [
       "<2x74 sparse matrix of type '<class 'numpy.int64'>'\n",
       "\twith 87 stored elements in Compressed Sparse Row format>"
      ]
     },
     "execution_count": 27,
     "metadata": {},
     "output_type": "execute_result"
    }
   ],
   "source": [
    "import numpy as np\n",
    "print (len(patent1))\n",
    "print (len(patent2))\n",
    "print (np.shape(text))\n",
    "count_matrix"
   ]
  },
  {
   "cell_type": "code",
   "execution_count": 28,
   "metadata": {},
   "outputs": [
    {
     "name": "stdout",
     "output_type": "stream",
     "text": [
      "\n",
      "Similarity Scores:\n",
      "[[1.         0.50797288]\n",
      " [0.50797288 1.        ]]\n"
     ]
    }
   ],
   "source": [
    "from sklearn.metrics.pairwise import cosine_similarity\n",
    "\n",
    "# Print the similarity scores\n",
    "print(\"\\nSimilarity Scores:\")\n",
    "print(cosine_similarity(count_matrix))"
   ]
  },
  {
   "cell_type": "code",
   "execution_count": 29,
   "metadata": {},
   "outputs": [
    {
     "name": "stdout",
     "output_type": "stream",
     "text": [
      "Match in %50.8\n"
     ]
    }
   ],
   "source": [
    "# Get the match percentage\n",
    "matchPercentage = cosine_similarity(count_matrix)[0][1] * 100\n",
    "matchPercentage = round(matchPercentage, 2) # round to two decimal\n",
    "print(\"Match in %\"+ str(matchPercentage))"
   ]
  },
  {
   "cell_type": "code",
   "execution_count": null,
   "metadata": {},
   "outputs": [],
   "source": []
  }
 ],
 "metadata": {
  "kernelspec": {
   "display_name": "Python 3",
   "language": "python",
   "name": "python3"
  },
  "language_info": {
   "codemirror_mode": {
    "name": "ipython",
    "version": 3
   },
   "file_extension": ".py",
   "mimetype": "text/x-python",
   "name": "python",
   "nbconvert_exporter": "python",
   "pygments_lexer": "ipython3",
   "version": "3.7.6"
  }
 },
 "nbformat": 4,
 "nbformat_minor": 4
}
