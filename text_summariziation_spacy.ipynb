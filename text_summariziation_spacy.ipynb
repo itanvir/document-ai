{
 "cells": [
  {
   "cell_type": "code",
   "execution_count": 21,
   "metadata": {},
   "outputs": [],
   "source": [
    "import spacy\n",
    "from spacy.lang.pt.stop_words import STOP_WORDS\n",
    "from sklearn.feature_extraction.text import CountVectorizer"
   ]
  },
  {
   "cell_type": "code",
   "execution_count": 9,
   "metadata": {},
   "outputs": [],
   "source": [
    "import en_core_web_sm\n",
    "nlp = en_core_web_sm.load()"
   ]
  },
  {
   "cell_type": "code",
   "execution_count": 11,
   "metadata": {},
   "outputs": [],
   "source": [
    "with open(\"text.txt\", \"r\", encoding=\"utf-8\") as f:\n",
    "    text = \" \".join(f.readlines())"
   ]
  },
  {
   "cell_type": "code",
   "execution_count": 12,
   "metadata": {},
   "outputs": [
    {
     "data": {
      "text/plain": [
       "'Top Senate Republicans are privately arguing that it would boost their chances of holding the majority in November if their party makes a full-throated effort at confirming President Donald Trump\\'s pick for the Supreme Court, according to multiple GOP sources, despite their past posture that such nominees should not be confirmed in a presidential election year. Behind the scenes, Senate Majority Leader Mitch McConnell is calculating whether he has the votes to quickly confirm Trump\\'s eventual nominee to the Supreme Court, focusing in large part on the party\\'s most vulnerable Republicans facing voters in less than two months. The Kentucky Republican could only lose three senators of his 53-47 majority and still confirm the pick with a tie-breaking vote from Vice President Mike Pence. The argument, according to Senate GOP sources, is that getting behind Trump\\'s pick will energize the Republican base and woo conservative-leaning voters who are uncertain about backing Trump and the GOP this fall. Opposing the nominee, they argue, will only cause a backlash from their party\\'s supporters and might not be enough to win over Democratic voters who are already inclined to back their opponents. But moving ahead on a nomination now could anger some voters who may recoil at the GOP\\'s heavy-handed tactics, including in Democratic-leaning states where Republicans face voters in the fall. On balance, though, Republicans say that moving ahead now would be far more beneficial to keeping control of the narrowly divided chamber.\\n In the wake of Justice Ruth Bader Ginsburg\\'s death on Friday, several of the most vulnerable Republican senators -- Thom Tillis of North Carolina, Martha McSally of Arizona and Kelly Loeffler of Georgia -- have signaled their support for moving ahead with confirmation proceedings this year. Those three senators are running behind Trump in the polls, suggesting that they need to coalesce their party\\'s support. \"This U.S. Senate should vote on President Trump\\'s next nominee for the U.S. Supreme Court,\" tweeted McSally on Friday night. Republican senators opposed even holding a confirmation hearing in 2016 for Judge Merrick Garland, who then-President Barack Obama nominated to the bench in March of that year after Justice Antonin Scalia died. But with Trump in office, many have since changed their minds. Sen. Lindsey Graham of South Carolina, who is running for reelection and vowed in 2016 to oppose moving forward with a Supreme Court pick in a presidential election year, has already signaled that the Judiciary Committee he chairs will consider Trump\\'s nominee. And before Ginsburg died, vulnerable Sen. Joni Ernst of Iowa also supported taking up a Trump nominee after November in a lame-duck session of Congress.'"
      ]
     },
     "execution_count": 12,
     "metadata": {},
     "output_type": "execute_result"
    }
   ],
   "source": [
    "text"
   ]
  },
  {
   "cell_type": "code",
   "execution_count": 13,
   "metadata": {},
   "outputs": [],
   "source": [
    "doc = nlp(text)"
   ]
  },
  {
   "cell_type": "code",
   "execution_count": 14,
   "metadata": {},
   "outputs": [
    {
     "data": {
      "text/plain": [
       "Top Senate Republicans are privately arguing that it would boost their chances of holding the majority in November if their party makes a full-throated effort at confirming President Donald Trump's pick for the Supreme Court, according to multiple GOP sources, despite their past posture that such nominees should not be confirmed in a presidential election year. Behind the scenes, Senate Majority Leader Mitch McConnell is calculating whether he has the votes to quickly confirm Trump's eventual nominee to the Supreme Court, focusing in large part on the party's most vulnerable Republicans facing voters in less than two months. The Kentucky Republican could only lose three senators of his 53-47 majority and still confirm the pick with a tie-breaking vote from Vice President Mike Pence. The argument, according to Senate GOP sources, is that getting behind Trump's pick will energize the Republican base and woo conservative-leaning voters who are uncertain about backing Trump and the GOP this fall. Opposing the nominee, they argue, will only cause a backlash from their party's supporters and might not be enough to win over Democratic voters who are already inclined to back their opponents. But moving ahead on a nomination now could anger some voters who may recoil at the GOP's heavy-handed tactics, including in Democratic-leaning states where Republicans face voters in the fall. On balance, though, Republicans say that moving ahead now would be far more beneficial to keeping control of the narrowly divided chamber.\n",
       " In the wake of Justice Ruth Bader Ginsburg's death on Friday, several of the most vulnerable Republican senators -- Thom Tillis of North Carolina, Martha McSally of Arizona and Kelly Loeffler of Georgia -- have signaled their support for moving ahead with confirmation proceedings this year. Those three senators are running behind Trump in the polls, suggesting that they need to coalesce their party's support. \"This U.S. Senate should vote on President Trump's next nominee for the U.S. Supreme Court,\" tweeted McSally on Friday night. Republican senators opposed even holding a confirmation hearing in 2016 for Judge Merrick Garland, who then-President Barack Obama nominated to the bench in March of that year after Justice Antonin Scalia died. But with Trump in office, many have since changed their minds. Sen. Lindsey Graham of South Carolina, who is running for reelection and vowed in 2016 to oppose moving forward with a Supreme Court pick in a presidential election year, has already signaled that the Judiciary Committee he chairs will consider Trump's nominee. And before Ginsburg died, vulnerable Sen. Joni Ernst of Iowa also supported taking up a Trump nominee after November in a lame-duck session of Congress."
      ]
     },
     "execution_count": 14,
     "metadata": {},
     "output_type": "execute_result"
    }
   ],
   "source": [
    "doc"
   ]
  },
  {
   "cell_type": "code",
   "execution_count": 15,
   "metadata": {},
   "outputs": [],
   "source": [
    "corpus = [sent.text.lower() for sent in doc.sents ]\n",
    "    \n",
    "cv = CountVectorizer(stop_words=list(STOP_WORDS))   \n",
    "cv_fit=cv.fit_transform(corpus)    \n",
    "word_list = cv.get_feature_names();    \n",
    "count_list = cv_fit.toarray().sum(axis=0)   "
   ]
  },
  {
   "cell_type": "code",
   "execution_count": 18,
   "metadata": {},
   "outputs": [],
   "source": [
    "nb_sentences = 3"
   ]
  },
  {
   "cell_type": "code",
   "execution_count": 19,
   "metadata": {},
   "outputs": [
    {
     "name": "stdout",
     "output_type": "stream",
     "text": [
      "\n",
      "Words with higher frequencies:  ['in', 'of', 'the']\n"
     ]
    }
   ],
   "source": [
    "word_frequency = dict(zip(word_list,count_list))\n",
    "\n",
    "val=sorted(word_frequency.values())\n",
    "\n",
    "# Check words with higher frequencies\n",
    "higher_word_frequencies = [word for word,freq in word_frequency.items() if freq in val[-3:]]\n",
    "print(\"\\nWords with higher frequencies: \", higher_word_frequencies)\n",
    "\n",
    "# gets relative frequencies of words\n",
    "higher_frequency = val[-1]\n",
    "for word in word_frequency.keys():  \n",
    "    word_frequency[word] = (word_frequency[word]/higher_frequency)\n",
    "\n",
    "\n",
    "# SENTENCE RANKING: the rank of sentences is based on the word frequencies\n",
    "sentence_rank={}\n",
    "for sent in doc.sents:\n",
    "    for word in sent :       \n",
    "        if word.text.lower() in word_frequency.keys():            \n",
    "            if sent in sentence_rank.keys():\n",
    "                sentence_rank[sent]+=word_frequency[word.text.lower()]\n",
    "            else:\n",
    "                sentence_rank[sent]=word_frequency[word.text.lower()]\n",
    "        else:\n",
    "            continue\n",
    "\n",
    "top_sentences=(sorted(sentence_rank.values())[::-1])\n",
    "top_sent=top_sentences[:nb_sentences]\n",
    "\n",
    "# Mount summary\n",
    "summary=[]\n",
    "for sent,strength in sentence_rank.items():  \n",
    "    if strength in top_sent:\n",
    "        summary.append(sent)"
   ]
  },
  {
   "cell_type": "code",
   "execution_count": 20,
   "metadata": {},
   "outputs": [
    {
     "data": {
      "text/plain": [
       "[Top Senate Republicans are privately arguing that it would boost their chances of holding the majority in November if their party makes a full-throated effort at confirming President Donald Trump's pick for the Supreme Court, according to multiple GOP sources, despite their past posture that such nominees should not be confirmed in a presidential election year.,\n",
       " Behind the scenes, Senate Majority Leader Mitch McConnell is calculating whether he has the votes to quickly confirm Trump's eventual nominee to the Supreme Court, focusing in large part on the party's most vulnerable Republicans facing voters in less than two months.,\n",
       " In the wake of Justice Ruth Bader Ginsburg's death on Friday, several of the most vulnerable Republican senators -- Thom Tillis of North Carolina, Martha McSally of Arizona and Kelly Loeffler of Georgia -- have signaled their support for moving ahead with confirmation proceedings this year.]"
      ]
     },
     "execution_count": 20,
     "metadata": {},
     "output_type": "execute_result"
    }
   ],
   "source": [
    "summary"
   ]
  },
  {
   "cell_type": "code",
   "execution_count": null,
   "metadata": {},
   "outputs": [],
   "source": []
  }
 ],
 "metadata": {
  "kernelspec": {
   "display_name": "Python 3",
   "language": "python",
   "name": "python3"
  },
  "language_info": {
   "codemirror_mode": {
    "name": "ipython",
    "version": 3
   },
   "file_extension": ".py",
   "mimetype": "text/x-python",
   "name": "python",
   "nbconvert_exporter": "python",
   "pygments_lexer": "ipython3",
   "version": "3.7.6"
  }
 },
 "nbformat": 4,
 "nbformat_minor": 4
}
