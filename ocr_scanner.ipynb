{
 "cells": [
  {
   "cell_type": "code",
   "execution_count": 12,
   "metadata": {},
   "outputs": [
    {
     "name": "stdout",
     "output_type": "stream",
     "text": [
      "End user licence agreement\n",
      "\n",
      "Please read this EULA carefully, as it sets out the basis upon which we license the\n",
      "Software for use.\n",
      "\n",
      "Before you download the Software from our website, we will ask you to give your\n",
      "express agreement to the provisions of this EULA.\n",
      "\n",
      "1.\n",
      "1.1\n",
      "\n",
      "Definitions\n",
      "In this EULA[, except to the extent expressly provided otherwise]:\n",
      "\n",
      "\"App Store\" means [the online sales and distribution platform operated by a\n",
      "third party by means of which the User obtained the Software];\n",
      "\n",
      "\"App Store Terms and Conditions\" means [the terms and conditions of the\n",
      "App Store that set out any rights and/or obligations of the the User in relation\n",
      "to the Software and/or any of the Services];\n",
      "\n",
      "\"Charges\" means [those amounts that the parties have agreed in writing\n",
      "shall be payable by the User to the Licensor in respect of this EULA];\n",
      "\n",
      "\"Effective Date\" means [the date upon which the User receives a written\n",
      "confirmation that this EULA has come into force following the User's express\n",
      "consent to this EULA];\n",
      "\n",
      "\"EULA\" means [this end user licence agreement, including any amendments\n",
      "to this end user licence agreement from time to time];\n",
      "\n",
      "\"Export Laws\" means [all applicable laws] restricting and/or regulating:\n",
      "\n",
      "(a) the inter-jurisdictional import, export, supply, disclosure, transfer or\n",
      "transmission of goods, services, software, technology, technical know-\n",
      "how, data and/or information; and/or\n",
      "\n",
      "(b) the import, export, supply, disclosure, transfer or transmission of goods,\n",
      "services, software, technology, technical know-how, data and/or\n",
      "information to designated entities or persons, or to designated classes\n",
      "of entities or persons;\n",
      "\n",
      "\"Force Majeure Event\" means [an event, or a series of related events, that\n",
      "is outside the reasonable control of the party affected (including failures of the\n",
      "internet or any public telecommunications network, hacker attacks, denial of\n",
      "service attacks, virus or other malicious software attacks or infections, power\n",
      "failures, industrial disputes affecting any third party, changes to the law,\n",
      "disasters, explosions, fires, floods, riots, terrorist attacks and wars)];\n",
      "\n",
      "\"Hosted Services\" means [the hosted services that are made available by\n",
      "the Licensor to the User as a service via the internet and may be accessed\n",
      "and used by means of the Software];\n",
      "\n",
      "\"Intellectual Property Rights\" means [all intellectual property rights\n",
      "wherever in the world, whether registrable or unregistrable, registered or\n",
      "unregistered, including any application or right of application for such rights\n",
      "(and these “intellectual property rights\" include copyright and related rights,\n",
      "database rights, confidential information, trade secrets, know-how, business\n",
      "names, trade names, trade marks, service marks, passing off rights, unfair\n",
      "competition rights, patents, petty patents, utility models, semi-conductor\n",
      "topography rights and rights in designs)];\n",
      "\f",
      "\n"
     ]
    }
   ],
   "source": [
    "try:\n",
    "    from PIL import Image\n",
    "except ImportError:\n",
    "    import Image\n",
    "import pytesseract\n",
    "\n",
    "def ocr_core(filename):\n",
    "    \"\"\"\n",
    "    This function will handle the core OCR processing of images.\n",
    "    \"\"\"\n",
    "    text = pytesseract.image_to_string(Image.open(filename))  # We'll use Pillow's Image class to open the image and pytesseract to detect the string in the image\n",
    "    return text\n",
    "\n",
    "print(ocr_core('/Users/itanvir/work/stealth-ai/5244-001.png'))"
   ]
  },
  {
   "cell_type": "code",
   "execution_count": null,
   "metadata": {},
   "outputs": [],
   "source": []
  }
 ],
 "metadata": {
  "kernelspec": {
   "display_name": "Python 3",
   "language": "python",
   "name": "python3"
  },
  "language_info": {
   "codemirror_mode": {
    "name": "ipython",
    "version": 3
   },
   "file_extension": ".py",
   "mimetype": "text/x-python",
   "name": "python",
   "nbconvert_exporter": "python",
   "pygments_lexer": "ipython3",
   "version": "3.7.6"
  }
 },
 "nbformat": 4,
 "nbformat_minor": 4
}
